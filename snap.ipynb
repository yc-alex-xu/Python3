{
 "cells": [
  {
   "cell_type": "code",
   "execution_count": 1,
   "metadata": {},
   "outputs": [
    {
     "name": "stdout",
     "output_type": "stream",
     "text": [
      "(3, 10, 9, 7, 4, 8, 6, 2, 1, 5)\n",
      "(3, 10, 9, 7, 4, 8, 6, 2, 5, 1)\n",
      "(3, 10, 9, 7, 8, 4, 6, 2, 1, 5)\n",
      "(3, 10, 9, 7, 8, 4, 6, 2, 5, 1)\n",
      "(4, 9, 8, 6, 2, 10, 7, 3, 1, 5)\n",
      "(4, 9, 8, 6, 2, 10, 7, 3, 5, 1)\n",
      "(4, 9, 8, 6, 10, 2, 7, 3, 1, 5)\n",
      "(4, 9, 8, 6, 10, 2, 7, 3, 5, 1)\n",
      "(6, 7, 10, 8, 3, 9, 5, 1, 2, 4)\n",
      "(6, 7, 10, 8, 3, 9, 5, 1, 4, 2)\n",
      "(6, 7, 10, 8, 9, 3, 5, 1, 2, 4)\n",
      "(6, 7, 10, 8, 9, 3, 5, 1, 4, 2)\n",
      "(7, 6, 10, 8, 3, 9, 5, 1, 2, 4)\n",
      "(7, 6, 10, 8, 3, 9, 5, 1, 4, 2)\n",
      "(7, 6, 10, 8, 9, 3, 5, 1, 2, 4)\n",
      "(7, 6, 10, 8, 9, 3, 5, 1, 4, 2)\n",
      "(9, 4, 8, 6, 2, 10, 7, 3, 1, 5)\n",
      "(9, 4, 8, 6, 2, 10, 7, 3, 5, 1)\n",
      "(9, 4, 8, 6, 10, 2, 7, 3, 1, 5)\n",
      "(9, 4, 8, 6, 10, 2, 7, 3, 5, 1)\n",
      "(10, 3, 9, 7, 4, 8, 6, 2, 1, 5)\n",
      "(10, 3, 9, 7, 4, 8, 6, 2, 5, 1)\n",
      "(10, 3, 9, 7, 8, 4, 6, 2, 1, 5)\n",
      "(10, 3, 9, 7, 8, 4, 6, 2, 5, 1)\n"
     ]
    }
   ],
   "source": [
    "# https://www.zhihu.com/question/290635682/answer/471240014\n",
    "\n",
    "import itertools\n",
    "\n",
    "for l in itertools.permutations(range(1,11)):\n",
    "    if (l[0]+l[1] == 13 and l[2]-l[3] == 2 and l[4]+l[5]==12 and l[6]-l[7]==4 and l[8]+l[9] == 6):\n",
    "        print(l)"
   ]
  },
  {
   "cell_type": "code",
   "execution_count": 2,
   "metadata": {},
   "outputs": [
    {
     "name": "stdout",
     "output_type": "stream",
     "text": [
      "CAL24_eval.py  CAL24.py  fund_balance.py  Hanoi.py  snap.ipynb\r\n"
     ]
    }
   ],
   "source": [
    "!ls\n"
   ]
  },
  {
   "cell_type": "code",
   "execution_count": null,
   "metadata": {},
   "outputs": [],
   "source": []
  }
 ],
 "metadata": {
  "kernelspec": {
   "display_name": "Python 3",
   "language": "python",
   "name": "python3"
  },
  "language_info": {
   "codemirror_mode": {
    "name": "ipython",
    "version": 3
   },
   "file_extension": ".py",
   "mimetype": "text/x-python",
   "name": "python",
   "nbconvert_exporter": "python",
   "pygments_lexer": "ipython3",
   "version": "3.6.5"
  }
 },
 "nbformat": 4,
 "nbformat_minor": 2
}
